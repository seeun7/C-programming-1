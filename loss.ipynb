{
  "cells": [
    {
      "cell_type": "markdown",
      "metadata": {
        "id": "view-in-github",
        "colab_type": "text"
      },
      "source": [
        "<a href=\"https://colab.research.google.com/github/seeun7/C-programming-1/blob/main/loss.ipynb\" target=\"_parent\"><img src=\"https://colab.research.google.com/assets/colab-badge.svg\" alt=\"Open In Colab\"/></a>"
      ]
    },
    {
      "cell_type": "markdown",
      "source": [
        "# **컴퓨터과학전공 202310954 이세은 인공지능 과제 3**"
      ],
      "metadata": {
        "id": "DAqDk61ihm6U"
      }
    },
    {
      "cell_type": "code",
      "execution_count": 1,
      "metadata": {
        "id": "Xs7cqNymRZtm"
      },
      "outputs": [],
      "source": [
        "def unpickle(file): #파일 열기 함수 정의\n",
        "  import pickle\n",
        "  with open(file, 'rb') as fo:\n",
        "    dict=pickle.load(fo, encoding='bytes')\n",
        "  return dict"
      ]
    },
    {
      "cell_type": "code",
      "execution_count": 2,
      "metadata": {
        "colab": {
          "base_uri": "https://localhost:8080/",
          "height": 0
        },
        "id": "CzFlICozSD6W",
        "outputId": "99b1194c-ca4b-4177-b3ce-fab1f75ce67c"
      },
      "outputs": [
        {
          "output_type": "stream",
          "name": "stdout",
          "text": [
            "Drive already mounted at /content/drive/; to attempt to forcibly remount, call drive.mount(\"/content/drive/\", force_remount=True).\n",
            "/content/drive/MyDrive/AI\n"
          ]
        }
      ],
      "source": [
        "from google.colab import drive #내 컴퓨터에 저장된 lossfunction 파일 불러오기\n",
        "drive.mount('/content/drive/')\n",
        "%cd /content/drive/MyDrive/AI"
      ]
    },
    {
      "cell_type": "code",
      "execution_count": 3,
      "metadata": {
        "colab": {
          "base_uri": "https://localhost:8080/",
          "height": 148
        },
        "id": "-GkvwdDiSQv0",
        "outputId": "0a9c0c06-0fbe-4ff0-afd7-c57007d894c6"
      },
      "outputs": [
        {
          "output_type": "display_data",
          "data": {
            "text/plain": [
              "<IPython.core.display.HTML object>"
            ],
            "text/html": [
              "\n",
              "     <input type=\"file\" id=\"files-7e30eb4a-2ab6-4cd3-9e03-84416bbf6b52\" name=\"files[]\" multiple disabled\n",
              "        style=\"border:none\" />\n",
              "     <output id=\"result-7e30eb4a-2ab6-4cd3-9e03-84416bbf6b52\">\n",
              "      Upload widget is only available when the cell has been executed in the\n",
              "      current browser session. Please rerun this cell to enable.\n",
              "      </output>\n",
              "      <script>// Copyright 2017 Google LLC\n",
              "//\n",
              "// Licensed under the Apache License, Version 2.0 (the \"License\");\n",
              "// you may not use this file except in compliance with the License.\n",
              "// You may obtain a copy of the License at\n",
              "//\n",
              "//      http://www.apache.org/licenses/LICENSE-2.0\n",
              "//\n",
              "// Unless required by applicable law or agreed to in writing, software\n",
              "// distributed under the License is distributed on an \"AS IS\" BASIS,\n",
              "// WITHOUT WARRANTIES OR CONDITIONS OF ANY KIND, either express or implied.\n",
              "// See the License for the specific language governing permissions and\n",
              "// limitations under the License.\n",
              "\n",
              "/**\n",
              " * @fileoverview Helpers for google.colab Python module.\n",
              " */\n",
              "(function(scope) {\n",
              "function span(text, styleAttributes = {}) {\n",
              "  const element = document.createElement('span');\n",
              "  element.textContent = text;\n",
              "  for (const key of Object.keys(styleAttributes)) {\n",
              "    element.style[key] = styleAttributes[key];\n",
              "  }\n",
              "  return element;\n",
              "}\n",
              "\n",
              "// Max number of bytes which will be uploaded at a time.\n",
              "const MAX_PAYLOAD_SIZE = 100 * 1024;\n",
              "\n",
              "function _uploadFiles(inputId, outputId) {\n",
              "  const steps = uploadFilesStep(inputId, outputId);\n",
              "  const outputElement = document.getElementById(outputId);\n",
              "  // Cache steps on the outputElement to make it available for the next call\n",
              "  // to uploadFilesContinue from Python.\n",
              "  outputElement.steps = steps;\n",
              "\n",
              "  return _uploadFilesContinue(outputId);\n",
              "}\n",
              "\n",
              "// This is roughly an async generator (not supported in the browser yet),\n",
              "// where there are multiple asynchronous steps and the Python side is going\n",
              "// to poll for completion of each step.\n",
              "// This uses a Promise to block the python side on completion of each step,\n",
              "// then passes the result of the previous step as the input to the next step.\n",
              "function _uploadFilesContinue(outputId) {\n",
              "  const outputElement = document.getElementById(outputId);\n",
              "  const steps = outputElement.steps;\n",
              "\n",
              "  const next = steps.next(outputElement.lastPromiseValue);\n",
              "  return Promise.resolve(next.value.promise).then((value) => {\n",
              "    // Cache the last promise value to make it available to the next\n",
              "    // step of the generator.\n",
              "    outputElement.lastPromiseValue = value;\n",
              "    return next.value.response;\n",
              "  });\n",
              "}\n",
              "\n",
              "/**\n",
              " * Generator function which is called between each async step of the upload\n",
              " * process.\n",
              " * @param {string} inputId Element ID of the input file picker element.\n",
              " * @param {string} outputId Element ID of the output display.\n",
              " * @return {!Iterable<!Object>} Iterable of next steps.\n",
              " */\n",
              "function* uploadFilesStep(inputId, outputId) {\n",
              "  const inputElement = document.getElementById(inputId);\n",
              "  inputElement.disabled = false;\n",
              "\n",
              "  const outputElement = document.getElementById(outputId);\n",
              "  outputElement.innerHTML = '';\n",
              "\n",
              "  const pickedPromise = new Promise((resolve) => {\n",
              "    inputElement.addEventListener('change', (e) => {\n",
              "      resolve(e.target.files);\n",
              "    });\n",
              "  });\n",
              "\n",
              "  const cancel = document.createElement('button');\n",
              "  inputElement.parentElement.appendChild(cancel);\n",
              "  cancel.textContent = 'Cancel upload';\n",
              "  const cancelPromise = new Promise((resolve) => {\n",
              "    cancel.onclick = () => {\n",
              "      resolve(null);\n",
              "    };\n",
              "  });\n",
              "\n",
              "  // Wait for the user to pick the files.\n",
              "  const files = yield {\n",
              "    promise: Promise.race([pickedPromise, cancelPromise]),\n",
              "    response: {\n",
              "      action: 'starting',\n",
              "    }\n",
              "  };\n",
              "\n",
              "  cancel.remove();\n",
              "\n",
              "  // Disable the input element since further picks are not allowed.\n",
              "  inputElement.disabled = true;\n",
              "\n",
              "  if (!files) {\n",
              "    return {\n",
              "      response: {\n",
              "        action: 'complete',\n",
              "      }\n",
              "    };\n",
              "  }\n",
              "\n",
              "  for (const file of files) {\n",
              "    const li = document.createElement('li');\n",
              "    li.append(span(file.name, {fontWeight: 'bold'}));\n",
              "    li.append(span(\n",
              "        `(${file.type || 'n/a'}) - ${file.size} bytes, ` +\n",
              "        `last modified: ${\n",
              "            file.lastModifiedDate ? file.lastModifiedDate.toLocaleDateString() :\n",
              "                                    'n/a'} - `));\n",
              "    const percent = span('0% done');\n",
              "    li.appendChild(percent);\n",
              "\n",
              "    outputElement.appendChild(li);\n",
              "\n",
              "    const fileDataPromise = new Promise((resolve) => {\n",
              "      const reader = new FileReader();\n",
              "      reader.onload = (e) => {\n",
              "        resolve(e.target.result);\n",
              "      };\n",
              "      reader.readAsArrayBuffer(file);\n",
              "    });\n",
              "    // Wait for the data to be ready.\n",
              "    let fileData = yield {\n",
              "      promise: fileDataPromise,\n",
              "      response: {\n",
              "        action: 'continue',\n",
              "      }\n",
              "    };\n",
              "\n",
              "    // Use a chunked sending to avoid message size limits. See b/62115660.\n",
              "    let position = 0;\n",
              "    do {\n",
              "      const length = Math.min(fileData.byteLength - position, MAX_PAYLOAD_SIZE);\n",
              "      const chunk = new Uint8Array(fileData, position, length);\n",
              "      position += length;\n",
              "\n",
              "      const base64 = btoa(String.fromCharCode.apply(null, chunk));\n",
              "      yield {\n",
              "        response: {\n",
              "          action: 'append',\n",
              "          file: file.name,\n",
              "          data: base64,\n",
              "        },\n",
              "      };\n",
              "\n",
              "      let percentDone = fileData.byteLength === 0 ?\n",
              "          100 :\n",
              "          Math.round((position / fileData.byteLength) * 100);\n",
              "      percent.textContent = `${percentDone}% done`;\n",
              "\n",
              "    } while (position < fileData.byteLength);\n",
              "  }\n",
              "\n",
              "  // All done.\n",
              "  yield {\n",
              "    response: {\n",
              "      action: 'complete',\n",
              "    }\n",
              "  };\n",
              "}\n",
              "\n",
              "scope.google = scope.google || {};\n",
              "scope.google.colab = scope.google.colab || {};\n",
              "scope.google.colab._files = {\n",
              "  _uploadFiles,\n",
              "  _uploadFilesContinue,\n",
              "};\n",
              "})(self);\n",
              "</script> "
            ]
          },
          "metadata": {}
        },
        {
          "output_type": "stream",
          "name": "stdout",
          "text": [
            "Saving lossfunction.py to lossfunction (3).py\n"
          ]
        },
        {
          "output_type": "execute_result",
          "data": {
            "text/plain": [
              "{'lossfunction (3).py': b'# -*- coding: utf-8 -*-\\n\"\"\"lossfunction.ipynb\\n\\nAutomatically generated by Colab.\\n\\nOriginal file is located at\\n    https://colab.research.google.com/drive/1AwiZAWfa429h_4pQozfYofnmrL-xdwku\\n\"\"\"\\n\\nimport numpy as np\\n\\nclass LossFunc:\\n  def __init__(self):\\n    pass\\n  def hinge_loss(self,W, X_tr, y_tr):\\n    s=W.dot(X_tr)\\n    y_s=s[y_tr, np.arange(X_tr.shape[1])]\\n    margin=np.maximum(0,s-y_s+1)\\n    margin[y_tr, np.arange(X_tr.shape[1])]=0\\n    loss_i=np.sum(margin, axis=0)\\n    return np.sum(loss_i)\\n  def softmax_loss(self, W, X_tr, y_tr):\\n    s=W.dot(X_tr)\\n    exper=np.exp(s-np.max(s, axis=1, keepdims=True))\\n    prob=exper/np.sum(exper, axis=1, keepdims=True)\\n    n=X_tr.shape[0]\\n    loss=-np.log(prob[np.arange(n), y_tr])\\n    loss=np.mean(loss)\\n    return loss'}"
            ]
          },
          "metadata": {},
          "execution_count": 3
        }
      ],
      "source": [
        "from google.colab import files\n",
        "files.upload()"
      ]
    },
    {
      "cell_type": "code",
      "execution_count": 4,
      "metadata": {
        "id": "fCrPCpMHSmnj"
      },
      "outputs": [],
      "source": [
        "bat1 = unpickle('data_batch_1')\n",
        "bat2 = unpickle('data_batch_2')\n",
        "bat3 = unpickle('data_batch_3')\n",
        "bat4 = unpickle('data_batch_4')\n",
        "bat5 = unpickle('data_batch_5')\n",
        "bat_test = unpickle('test_batch')"
      ]
    },
    {
      "cell_type": "code",
      "execution_count": 5,
      "metadata": {
        "id": "GKpcn84DSrFW"
      },
      "outputs": [],
      "source": [
        "import numpy as np\n",
        "data=np.concatenate([bat1[b'data'], bat2[b'data'], bat3[b'data'],bat4[b'data'],\n",
        "bat5[b'data']])\n",
        "labels = np.concatenate([bat1[b'labels'], bat2[b'labels'],\n",
        "bat3[b'labels'],bat4[b'labels'], bat5[b'labels']])\n"
      ]
    },
    {
      "cell_type": "code",
      "execution_count": 6,
      "metadata": {
        "id": "7Wp7-mzgS4Rr"
      },
      "outputs": [],
      "source": [
        "train_data=data.T\n",
        "train_label=labels\n",
        "test_data=bat_test[b'data']\n",
        "test_label=bat_test[b'labels']"
      ]
    },
    {
      "cell_type": "markdown",
      "source": [
        "파일으로부터 클래스 안에 필요한 함수를 사용하기 위해 클래스를 import"
      ],
      "metadata": {
        "id": "e0OMrRMdiifS"
      }
    },
    {
      "cell_type": "code",
      "source": [
        "from lossfunction import LossFunc\n",
        "LF = LossFunc()"
      ],
      "metadata": {
        "id": "jli9k04oigfB"
      },
      "execution_count": 7,
      "outputs": []
    },
    {
      "cell_type": "markdown",
      "source": [
        "SVM Loss를 1000번씩 3번 계산하고 각각의 정확도를 출력"
      ],
      "metadata": {
        "id": "1TVwZ1Zqi5Qu"
      }
    },
    {
      "cell_type": "code",
      "execution_count": 8,
      "metadata": {
        "colab": {
          "base_uri": "https://localhost:8080/",
          "height": 0
        },
        "id": "DyDRKSxmTNnJ",
        "outputId": "a4068051-b7d8-41bc-c32c-a09f17665729"
      },
      "outputs": [
        {
          "output_type": "stream",
          "name": "stdout",
          "text": [
            "in attempt 0 the loss was 508946.923558, best 508946.923558\n",
            "in attempt 1 the loss was 478949.072819, best 478949.072819\n",
            "in attempt 7 the loss was 467955.278001, best 467955.278001\n",
            "in attempt 9 the loss was 441403.421677, best 441403.421677\n",
            "in attempt 359 the loss was 431612.295955, best 431612.295955\n",
            "Done\n"
          ]
        }
      ],
      "source": [
        "bestloss = float(\"inf\")\n",
        "\n",
        "for num in range(1000):\n",
        "  W = np.random.randn(10, 3072) * 0.0001\n",
        "  loss = LF.hinge_loss(W, train_data, train_label)\n",
        "  if loss < bestloss:\n",
        "    bestloss = loss\n",
        "    bestW = W\n",
        "    print(\"in attempt %d the loss was %f, best %f\" % (num, loss, bestloss))\n",
        "print(\"Done\")\n"
      ]
    },
    {
      "cell_type": "code",
      "execution_count": 9,
      "metadata": {
        "colab": {
          "base_uri": "https://localhost:8080/",
          "height": 0
        },
        "id": "w-vSlhsnWl28",
        "outputId": "cd493bd0-8fe7-4808-e030-3dec1f6d38a5"
      },
      "outputs": [
        {
          "output_type": "stream",
          "name": "stdout",
          "text": [
            "The accuracy1 is 10.830000\n"
          ]
        }
      ],
      "source": [
        "scores=bestW.dot(test_data.T)\n",
        "Y_predict=np.argmax(scores, axis=0)\n",
        "acc1= np.mean(Y_predict==test_label)*100\n",
        "print(\"The accuracy1 is %f\" %acc1)"
      ]
    },
    {
      "cell_type": "code",
      "execution_count": 10,
      "metadata": {
        "colab": {
          "base_uri": "https://localhost:8080/",
          "height": 0
        },
        "id": "RnrCQei0BKc-",
        "outputId": "b2025f3d-055c-41c1-e36c-92ca89ed6725"
      },
      "outputs": [
        {
          "output_type": "stream",
          "name": "stdout",
          "text": [
            "in attempt 0 the loss was 549777.988178, best 549777.988178\n",
            "in attempt 1 the loss was 515602.924401, best 515602.924401\n",
            "in attempt 2 the loss was 497522.853963, best 497522.853963\n",
            "in attempt 3 the loss was 467280.687669, best 467280.687669\n",
            "in attempt 14 the loss was 466662.935867, best 466662.935867\n",
            "in attempt 42 the loss was 466344.936832, best 466344.936832\n",
            "in attempt 57 the loss was 465048.200978, best 465048.200978\n",
            "in attempt 62 the loss was 463327.441159, best 463327.441159\n",
            "in attempt 69 the loss was 460174.533779, best 460174.533779\n",
            "in attempt 78 the loss was 456835.959231, best 456835.959231\n",
            "in attempt 103 the loss was 456381.141105, best 456381.141105\n",
            "in attempt 142 the loss was 451955.887322, best 451955.887322\n",
            "in attempt 185 the loss was 450558.999528, best 450558.999528\n",
            "in attempt 191 the loss was 450320.715388, best 450320.715388\n",
            "in attempt 249 the loss was 448376.987273, best 448376.987273\n",
            "in attempt 406 the loss was 445912.764883, best 445912.764883\n",
            "in attempt 482 the loss was 443625.647327, best 443625.647327\n",
            "in attempt 518 the loss was 438769.249077, best 438769.249077\n",
            "in attempt 701 the loss was 431734.877626, best 431734.877626\n",
            "Done\n"
          ]
        }
      ],
      "source": [
        "bestloss=float(\"inf\")\n",
        "for num in range(1000):\n",
        "  W = np.random.randn(10, 3072) * 0.0001\n",
        "  loss = LF.hinge_loss(W, train_data, train_label)\n",
        "  if loss < bestloss:\n",
        "    bestloss = loss\n",
        "    bestW = W\n",
        "    print(\"in attempt %d the loss was %f, best %f\" % (num, loss, bestloss))\n",
        "print(\"Done\")"
      ]
    },
    {
      "cell_type": "code",
      "execution_count": 11,
      "metadata": {
        "colab": {
          "base_uri": "https://localhost:8080/",
          "height": 0
        },
        "id": "u3Rm9ly4FbEK",
        "outputId": "c9ff6d6a-6b98-464b-e4f7-155f9be92572"
      },
      "outputs": [
        {
          "output_type": "stream",
          "name": "stdout",
          "text": [
            "The accuracy1 is 14.060000\n"
          ]
        }
      ],
      "source": [
        "scores=bestW.dot(test_data.T)\n",
        "Y_predict=np.argmax(scores, axis=0)\n",
        "acc2= np.mean(Y_predict==test_label)*100\n",
        "print(\"The accuracy1 is %f\" %acc2)"
      ]
    },
    {
      "cell_type": "code",
      "execution_count": 12,
      "metadata": {
        "colab": {
          "base_uri": "https://localhost:8080/",
          "height": 0
        },
        "id": "fNLMUdRdCrhO",
        "outputId": "c6a96b72-6acc-41e5-b42c-17338a95e540"
      },
      "outputs": [
        {
          "output_type": "stream",
          "name": "stdout",
          "text": [
            "in attempt 0 the loss was 490420.495086, best 490420.495086\n",
            "in attempt 5 the loss was 476167.384370, best 476167.384370\n",
            "in attempt 7 the loss was 462029.250652, best 462029.250652\n",
            "in attempt 25 the loss was 454630.068874, best 454630.068874\n",
            "in attempt 33 the loss was 436189.678388, best 436189.678388\n",
            "Done\n"
          ]
        }
      ],
      "source": [
        "bestloss=float(\"inf\")\n",
        "for num in range(1000):\n",
        "  W = np.random.randn(10, 3072) * 0.0001\n",
        "  loss = LF.hinge_loss(W, train_data, train_label)\n",
        "  if loss < bestloss:\n",
        "    bestloss = loss\n",
        "    bestW = W\n",
        "    print(\"in attempt %d the loss was %f, best %f\" % (num, loss, bestloss))\n",
        "print(\"Done\")"
      ]
    },
    {
      "cell_type": "code",
      "execution_count": 13,
      "metadata": {
        "colab": {
          "base_uri": "https://localhost:8080/",
          "height": 0
        },
        "id": "dIHDtezfFdVB",
        "outputId": "686d3018-d8af-49bd-c0c1-323376ebe3b0"
      },
      "outputs": [
        {
          "output_type": "stream",
          "name": "stdout",
          "text": [
            "The accuracy1 is 10.620000\n"
          ]
        }
      ],
      "source": [
        "scores=bestW.dot(test_data.T)\n",
        "Y_predict=np.argmax(scores, axis=0)\n",
        "acc3= np.mean(Y_predict==test_label)*100\n",
        "print(\"The accuracy1 is %f\" %acc3)"
      ]
    },
    {
      "cell_type": "markdown",
      "source": [
        "3번의 정확도의 평균 출력"
      ],
      "metadata": {
        "id": "mAHuybx-jbPY"
      }
    },
    {
      "cell_type": "code",
      "execution_count": 14,
      "metadata": {
        "colab": {
          "base_uri": "https://localhost:8080/",
          "height": 0
        },
        "id": "2E1aYRLLDJRE",
        "outputId": "10637387-7950-4bf5-b118-a2cdb628c509"
      },
      "outputs": [
        {
          "output_type": "stream",
          "name": "stdout",
          "text": [
            "The mean of accuracy is 11.836667\n"
          ]
        }
      ],
      "source": [
        "hinge_mean=(acc1+acc2+acc3)/3\n",
        "print(\"The mean of accuracy is %f\" %hinge_mean)"
      ]
    },
    {
      "cell_type": "markdown",
      "source": [
        "softmax 방법으로 1000번씩 3번 정확도 측정 후 그 평균을 출력"
      ],
      "metadata": {
        "id": "LugKXeaCj3yB"
      }
    },
    {
      "cell_type": "code",
      "source": [
        "acc_array=[]\n",
        "best_loss = float(\"inf\")\n",
        "for num in range(1000):\n",
        "      W = np.random.randn(10, 3072) * 0.0001\n",
        "      soft_loss = LF.softmax_loss(W, train_data.T, train_label)\n",
        "      if soft_loss < best_loss:\n",
        "          best_loss = soft_loss\n",
        "          best_W = W\n",
        "          print(\"In attempt %d the loss was %f, best %f\" % (num, soft_loss, best_loss))\n",
        "print(\"Done\")"
      ],
      "metadata": {
        "colab": {
          "base_uri": "https://localhost:8080/",
          "height": 0
        },
        "id": "vcokHn4qq9xy",
        "outputId": "d781f667-ab73-4dac-db37-2b2f927acabb"
      },
      "execution_count": 15,
      "outputs": [
        {
          "output_type": "stream",
          "name": "stdout",
          "text": [
            "In attempt 0 the loss was 2.680985, best 2.680985\n",
            "In attempt 1 the loss was 2.659113, best 2.659113\n",
            "In attempt 4 the loss was 2.575431, best 2.575431\n",
            "In attempt 5 the loss was 2.446092, best 2.446092\n",
            "In attempt 22 the loss was 2.387422, best 2.387422\n",
            "In attempt 64 the loss was 2.366362, best 2.366362\n",
            "In attempt 206 the loss was 2.364855, best 2.364855\n",
            "In attempt 471 the loss was 2.323955, best 2.323955\n",
            "Done\n"
          ]
        }
      ]
    },
    {
      "cell_type": "code",
      "execution_count": 16,
      "metadata": {
        "id": "6gzghJItHObV",
        "colab": {
          "base_uri": "https://localhost:8080/",
          "height": 0
        },
        "outputId": "248fe406-3f76-457a-a523-7b029e488e67"
      },
      "outputs": [
        {
          "output_type": "stream",
          "name": "stdout",
          "text": [
            "The accuracy is 12.390000\n"
          ]
        }
      ],
      "source": [
        "scores = best_W.dot(test_data.T)\n",
        "exp_scores = np.exp(scores - np.max(scores, axis=0, keepdims=True))\n",
        "softmax_probs = exp_scores / np.sum(exp_scores, axis=0, keepdims=True)\n",
        "Y_predict = np.argmax(softmax_probs, axis=0)\n",
        "accuracy1 = np.mean(Y_predict == test_label) * 100\n",
        "print(\"The accuracy is %f\" % accuracy1)"
      ]
    },
    {
      "cell_type": "code",
      "source": [
        "best_loss = float(\"inf\")\n",
        "for num in range(1000):\n",
        "      W = np.random.randn(10, 3072) * 0.0001\n",
        "      soft_loss = LF.softmax_loss(W, train_data.T, train_label)\n",
        "      if soft_loss < best_loss:\n",
        "          best_loss = soft_loss\n",
        "          best_W = W\n",
        "          print(\"In attempt %d the loss was %f, best %f\" % (num, soft_loss, best_loss))\n",
        "print(\"Done\")"
      ],
      "metadata": {
        "colab": {
          "base_uri": "https://localhost:8080/",
          "height": 0
        },
        "id": "r3Zb6JkruMkA",
        "outputId": "ad011b4f-97d7-42ca-eeb9-f9bf52ea4a78"
      },
      "execution_count": 23,
      "outputs": [
        {
          "output_type": "stream",
          "name": "stdout",
          "text": [
            "In attempt 0 the loss was 2.533045, best 2.533045\n",
            "In attempt 2 the loss was 2.400177, best 2.400177\n",
            "In attempt 30 the loss was 2.381804, best 2.381804\n",
            "In attempt 100 the loss was 2.321166, best 2.321166\n",
            "Done\n"
          ]
        }
      ]
    },
    {
      "cell_type": "code",
      "source": [
        "scores = best_W.dot(test_data.T)\n",
        "exp_scores = np.exp(scores - np.max(scores, axis=0, keepdims=True))\n",
        "softmax_probs = exp_scores / np.sum(exp_scores, axis=0, keepdims=True)\n",
        "Y_predict = np.argmax(softmax_probs, axis=0)\n",
        "accuracy2 = np.mean(Y_predict == test_label) * 100\n",
        "print(\"The accuracy is %f\" % accuracy2)"
      ],
      "metadata": {
        "colab": {
          "base_uri": "https://localhost:8080/",
          "height": 0
        },
        "id": "tT8cGHcEvBcG",
        "outputId": "28e731f4-5e92-49e8-f43c-54a4331e297b"
      },
      "execution_count": 24,
      "outputs": [
        {
          "output_type": "stream",
          "name": "stdout",
          "text": [
            "The accuracy is 10.140000\n"
          ]
        }
      ]
    },
    {
      "cell_type": "code",
      "source": [
        "best_loss = float(\"inf\")\n",
        "for num in range(1000):\n",
        "      W = np.random.randn(10, 3072) * 0.0001\n",
        "      soft_loss = LF.softmax_loss(W, train_data.T, train_label)\n",
        "      if soft_loss < best_loss:\n",
        "          best_loss = soft_loss\n",
        "          best_W = W\n",
        "          print(\"In attempt %d the loss was %f, best %f\" % (num, soft_loss, best_loss))\n",
        "print(\"Done\")"
      ],
      "metadata": {
        "colab": {
          "base_uri": "https://localhost:8080/",
          "height": 0
        },
        "id": "NiOuow_HvCRj",
        "outputId": "c10e560c-48ea-482d-9625-3d13954c5ed9"
      },
      "execution_count": 25,
      "outputs": [
        {
          "output_type": "stream",
          "name": "stdout",
          "text": [
            "In attempt 0 the loss was 2.455180, best 2.455180\n",
            "In attempt 5 the loss was 2.441762, best 2.441762\n",
            "In attempt 7 the loss was 2.419199, best 2.419199\n",
            "In attempt 11 the loss was 2.372097, best 2.372097\n",
            "In attempt 175 the loss was 2.355867, best 2.355867\n",
            "In attempt 216 the loss was 2.354633, best 2.354633\n",
            "In attempt 684 the loss was 2.343211, best 2.343211\n",
            "Done\n"
          ]
        }
      ]
    },
    {
      "cell_type": "code",
      "source": [
        "scores = best_W.dot(test_data.T)\n",
        "exp_scores = np.exp(scores - np.max(scores, axis=0, keepdims=True))\n",
        "softmax_probs = exp_scores / np.sum(exp_scores, axis=0, keepdims=True)\n",
        "Y_predict = np.argmax(softmax_probs, axis=0)\n",
        "accuracy3 = np.mean(Y_predict == test_label) * 100\n",
        "print(\"The accuracy is %f\" % accuracy3)"
      ],
      "metadata": {
        "colab": {
          "base_uri": "https://localhost:8080/",
          "height": 0
        },
        "id": "bW_S9WG8vD5u",
        "outputId": "11338513-3c78-4261-94e9-78f787e065a2"
      },
      "execution_count": 26,
      "outputs": [
        {
          "output_type": "stream",
          "name": "stdout",
          "text": [
            "The accuracy is 9.990000\n"
          ]
        }
      ]
    },
    {
      "cell_type": "code",
      "source": [
        "soft_mean=(accuracy1+accuracy2+accuracy3)/3\n",
        "print(\"The mean of accuracy is %f\" %soft_mean)"
      ],
      "metadata": {
        "colab": {
          "base_uri": "https://localhost:8080/",
          "height": 0
        },
        "id": "S8CNF5CfvLFk",
        "outputId": "beeb7d46-90e2-4fe5-af4a-13bab8769a74"
      },
      "execution_count": 27,
      "outputs": [
        {
          "output_type": "stream",
          "name": "stdout",
          "text": [
            "The mean of accuracy is 10.840000\n"
          ]
        }
      ]
    },
    {
      "cell_type": "markdown",
      "source": [
        "hinge와 softmax의 평균을 함께 출력"
      ],
      "metadata": {
        "id": "niabxdL7veRw"
      }
    },
    {
      "cell_type": "code",
      "source": [
        "print(\"Hinge: %f\" %hinge_mean)\n",
        "print(\"SoftMax: %f\"%soft_mean)"
      ],
      "metadata": {
        "colab": {
          "base_uri": "https://localhost:8080/",
          "height": 0
        },
        "id": "UqT0Kd2-vcsr",
        "outputId": "23b63b30-206e-444d-a105-223959061ff2"
      },
      "execution_count": 28,
      "outputs": [
        {
          "output_type": "stream",
          "name": "stdout",
          "text": [
            "Hinge: 11.836667\n",
            "SoftMax: 10.840000\n"
          ]
        }
      ]
    }
  ],
  "metadata": {
    "colab": {
      "provenance": [],
      "authorship_tag": "ABX9TyMirms62g9vkA5TI633RrSq",
      "include_colab_link": true
    },
    "kernelspec": {
      "display_name": "Python 3",
      "name": "python3"
    },
    "language_info": {
      "name": "python"
    }
  },
  "nbformat": 4,
  "nbformat_minor": 0
}